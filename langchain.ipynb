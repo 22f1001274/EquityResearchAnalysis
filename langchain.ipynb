{
 "cells": [
  {
   "cell_type": "markdown",
   "metadata": {},
   "source": [
    "# Text Loaders and UnstructuredUrlLoaders\n",
    "\n",
    "* Loading using loader classes in langchain"
   ]
  },
  {
   "cell_type": "code",
   "execution_count": 17,
   "metadata": {},
   "outputs": [],
   "source": [
    "import pypdf\n",
    "from langchain.document_loaders import PyPDFLoader\n"
   ]
  },
  {
   "cell_type": "code",
   "execution_count": 18,
   "metadata": {},
   "outputs": [],
   "source": [
    "loader = PyPDFLoader('pd.pdf')\n",
    "data = loader.load()"
   ]
  },
  {
   "cell_type": "code",
   "execution_count": 23,
   "metadata": {},
   "outputs": [
    {
     "data": {
      "text/plain": [
       "Document(metadata={'source': 'pd.pdf', 'page': 0}, page_content=\" AI Engineer Internship We are excited to announce a 3-month remote internship opportunity for an AI Engineer at Aspireit. This isn’t just any internship—it’s a unique chance to work directly alongside our founder on cutting-edge AI-driven products, placing you at the forefront of the industry’s shift towards AI innovation. During this internship, you will be a key member of our team, contributing to the development of three innovative AI products. You’ll gain invaluable experience by working closely with our AI engineers, integrating AI models on the backend, and bringing them to life on the front-end. This hands-on involvement will give you the practical exposure needed to build next-generation products and prototypes. Important Note: You are encouraged to use ChatGPT or any other LLM for code generation. As a forward-thinking company, we are focused on efficiency and innovation, and we'd like to assess how quickly you can complete and submit tasks. Additionally, if you are selected for the internship, you will gain valuable exposure to ADV ANCED AI TOOLS FOR CODE WRITING AND GENERATION, providing you with essential industrial knowledge. As the industry evolves, this experience will position you at the forefront of where technology is heading. The task is on the next page. \\n\")"
      ]
     },
     "execution_count": 23,
     "metadata": {},
     "output_type": "execute_result"
    }
   ],
   "source": [
    "data[0]"
   ]
  },
  {
   "cell_type": "code",
   "execution_count": 28,
   "metadata": {},
   "outputs": [
    {
     "data": {
      "text/plain": [
       "9"
      ]
     },
     "execution_count": 28,
     "metadata": {},
     "output_type": "execute_result"
    }
   ],
   "source": [
    "from langchain.document_loaders.csv_loader import CSVLoader\n",
    "\n",
    "loader = CSVLoader(\"movies.csv\", source_column='title')\n",
    "data = loader.load()\n",
    "len(data)"
   ]
  },
  {
   "cell_type": "code",
   "execution_count": 29,
   "metadata": {},
   "outputs": [
    {
     "data": {
      "text/plain": [
       "langchain_core.documents.base.Document"
      ]
     },
     "execution_count": 29,
     "metadata": {},
     "output_type": "execute_result"
    }
   ],
   "source": [
    "type(data[0])"
   ]
  },
  {
   "cell_type": "code",
   "execution_count": 31,
   "metadata": {},
   "outputs": [
    {
     "data": {
      "text/plain": [
       "{'source': 'Doctor Strange in the Multiverse of Madness', 'row': 1}"
      ]
     },
     "execution_count": 31,
     "metadata": {},
     "output_type": "execute_result"
    }
   ],
   "source": [
    "data[1].metadata"
   ]
  },
  {
   "cell_type": "code",
   "execution_count": 33,
   "metadata": {},
   "outputs": [
    {
     "name": "stdout",
     "output_type": "stream",
     "text": [
      "Collecting unstructured\n",
      "  Using cached unstructured-0.15.14-py3-none-any.whl.metadata (29 kB)\n",
      "Collecting libmagic\n",
      "  Using cached libmagic-1.0.tar.gz (3.7 kB)\n",
      "  Preparing metadata (setup.py) ... \u001b[?25ldone\n",
      "\u001b[?25hCollecting python-magic\n",
      "  Using cached python_magic-0.4.27-py2.py3-none-any.whl.metadata (5.8 kB)\n",
      "\u001b[31mERROR: Could not find a version that satisfies the requirement python-magic-bin (from versions: none)\u001b[0m\u001b[31m\n",
      "\u001b[0m\u001b[31mERROR: No matching distribution found for python-magic-bin\u001b[0m\u001b[31m\n",
      "\u001b[0m"
     ]
    }
   ],
   "source": [
    "!pip3 install unstructured libmagic python-magic python-magic-bin"
   ]
  },
  {
   "cell_type": "code",
   "execution_count": 34,
   "metadata": {},
   "outputs": [],
   "source": [
    "from langchain.document_loaders import UnstructuredURLLoader"
   ]
  },
  {
   "cell_type": "code",
   "execution_count": 37,
   "metadata": {},
   "outputs": [],
   "source": [
    "loader = UnstructuredURLLoader(urls=[\n",
    "    \"https://www.moneycontrol.com/news/business/markets/adani-enterprises-stock-in-focus-as-company-launches-first-tranche-of-qip-to-raise-500-million-12839267.html\",\n",
    "    \"https://www.moneycontrol.com/news/business/capex-for-airports-expressway-green-energy-projects-how-adani-enterprises-plans-to-use-its-qip-proceeds-12839253.html\"\n",
    "])"
   ]
  },
  {
   "cell_type": "code",
   "execution_count": 38,
   "metadata": {},
   "outputs": [
    {
     "data": {
      "text/plain": [
       "2"
      ]
     },
     "execution_count": 38,
     "metadata": {},
     "output_type": "execute_result"
    }
   ],
   "source": [
    "data = loader.load()\n",
    "len(data)"
   ]
  },
  {
   "cell_type": "code",
   "execution_count": 39,
   "metadata": {},
   "outputs": [
    {
     "data": {
      "text/plain": [
       "Document(metadata={'source': 'https://www.moneycontrol.com/news/business/markets/adani-enterprises-stock-in-focus-as-company-launches-first-tranche-of-qip-to-raise-500-million-12839267.html'}, page_content=\"English\\n\\nHindi\\n\\nGujarati\\n\\nSpecials\\n\\nHello, Login\\n\\nHello, Login\\n\\nLog-inor Sign-Up\\n\\nMy Account\\n\\nMy Profile\\n\\nMy Portfolio\\n\\nMy Watchlist\\n\\nFREE Credit Score₹100 Cash Reward\\n\\nFixed Deposits\\n\\nMy Alerts\\n\\nMy Messages\\n\\nPrice Alerts\\n\\nMy Profile\\n\\nMy PRO\\n\\nMy Portfolio\\n\\nMy Watchlist\\n\\nFREE Credit Score₹100 Cash Reward\\n\\nFixed Deposits\\n\\nMy Alerts\\n\\nMy Messages\\n\\nPrice Alerts\\n\\nLogout\\n\\nChat with Us\\n\\nDownload App\\n\\nFollow us on:\\n\\nGo Ad-Free\\n\\nMy Alerts\\n\\n>->MC_ENG_DESKTOP/MC_ENG_NEWS/MC_ENG_MARKETS_AS/MC_ENG_ROS_NWS_MKTS_AS_ATF_728\\n\\nGo PRO @₹99 PRO\\n\\nAdvertisement\\n\\nRemove Ad\\n\\nBusiness\\n\\nMarkets\\n\\nStocks\\n\\nEconomy\\n\\nCompanies\\n\\nTrends\\n\\nIPO\\n\\nOpinion\\n\\nEV Special\\n\\nHomeNewsBusinessMarketsAdani Enterprises stock in focus as company launches first tranche of QIP to raise $500 million\\n\\nTrending Topics\\n\\nSensex TodayQuant Mutual FundRallis India Share PriceTech Mahindra Q2KEI Industries Share Price\\n\\nAdani Enterprises stock in focus as company launches first tranche of QIP to raise $500 million\\n\\nAdani Enterprises stock is in the spotlight as the company launches the first tranche of its QIP offering to raise $500 million, with plans for further fundraising in the coming months to support capital expenditure and debt repayment\\n\\nMoneycontrol News\\n\\nOctober 10, 2024 / 08:29 IST\\n\\nAdani Group plans to raise between Rs 30,000 and Rs 40,000 crore from retail investors over the next 3-4 years to diversify sources of funds and mitigate risk.\\n\\nAdani Enterprises stock is in focus after the flagship firm of billionaire Gautam Adani-led conglomerate launched the first tranche of its qualified institutional placement (QIP) offering to raise as much as $500 million, with the intention of launching a second QIP in the coming months to raise more funds.\\n\\nThe company's board had approved a total fundraising of Rs 16,600 crore or approximately $2 billion earlier this year in May. Note that while the QIP launched on October 9 has a base size of $500 million, Adani Enterprises could raise a larger amount using a green shoe option, sources told Moneycontrol, adding that any additional fundraising will depend on investor demand.\\n\\nStory continues below Advertisement\\n\\nRemove Ad\\n\\nThe offering already has a strong investor demand, but the green shoe is a discretionary option for the company to exercise and they may choose not to do so right now and raise additional funds through another QIP in the next three to four months, sources added.\\n\\nOnce approved by shareholders, an equity fundraising resolution is valid for 12 months and a company can raise the total amount through multiple QIPs or a mix of various fundraising routes.\\n\\nFollow our market blog to catch all the live action\\n\\nRelated stories\\n\\nKEI Industries stock tanks 7% as margins contract in Q2\\n\\nNomura initiates coverage on Aditya Birla Real Estate with buy tag, sees 30% upside\\n\\nRallis India zooms 14% as all-round performance in Q2 lifts sentiment\\n\\nWhile the company was planning to launch the share sale later in the month, plans were advanced due to the escalation of conflict in the Middle East and its impact on global equity flows. Moneycontrol reported on October 9 that Adani Enterprises has tapped Gulf sovereign funds including Abu Dhabi Investment Authority, Qatar Investment Authority and Rajiv Jainâ\\x80\\x99s GQG for the QIP.\\n\\nFunds to be raised from the proposed QIP are planned to be used for capital expenditure purposes as well as to repay some existing debt of the company and its subsidiaries. Adani Enterprises, which acts as an incubator for many of the groupâ\\x80\\x99s new businesses, houses the groupâ\\x80\\x99s airports, mining, infrastructure, data centres and green hydrogen businesses.\\n\\nOn May 28, the company's board approved plans to raise up to Rs 16,600 crore through a QIP. Earlier on September 5, Moneycontrol reported that the Adani Group plans to raise between Rs 30,000 and Rs 40,000 crore from retail investors over the next 3-4 years to diversify sources of funds and mitigate risk.\\n\\nStory continues below Advertisement\\n\\nRemove Ad\\n\\nAlso Read |Â Stock Radar: Britannia, Adani Enterprises, PNC Infratech, TCS, GR Infraprojects, Rain Industries in focus on Thursday\\n\\nShares of Adani Enterprises closed marginally lower at Rs 3,152.40 on the National Stock Exchange (NSE) in the previous session. The stock has risen 8 percent so far this year, underperforming Nifty's returns of around 15 percent.\\n\\nIn the past 12 months, the counter has rallied 26 percent, in-line with Nifty's rise during this period.\\n\\nDisclaimer: The views and investment tips expressed by investment experts on Moneycontrol.com are their own and not those of the website or its management. Moneycontrol.com advises users to check with certified experts before taking any investment decisions.\\n\\nMoneycontrol News\\n\\nTags: #Adani Enterprises #Buzzing Stocks #fundraising #QIP issue\\n\\nfirst published: Oct 10, 2024 08:29 am\\n\\nTop Trends\\n\\nAngel TaxWiproBudget newsNew Income tax slabIPO News\\n\\nAdvertisement\\n\\nRemove Ad\\n\\nTrending news\\n\\nScientists claim 2 people 'communicated' in their sleep while lucid dreaming. Here's how\\n\\nMan gets Ratan Tata's face tattooed on chest, shares friend's cancer story: 'real life God'\\n\\nAge reversing CEO Bryan Johnson calls his plasma 'liquid gold' for anti-aging, wants to donate it\\n\\nDelhi woman's boyfriend earns Rs 42 LPA, 'waited 42 minutes for Zepto to remove Rs 80 surge charge'\\n\\nIndian man jailed in Singapore for spending Rs 16 lakh mistakenly sent to his account\\n\\nAdvisory Alert:\\n\\nForum Facebook Twitter Instagram Linkedin RSS\\n\\nPortfolio\\n\\nMarkets\\n\\nWatchlist\\n\\nLive TV Show\\n\\nCurrencies\\n\\nFREE Credit Score₹100 Cash Reward\\n\\nFinance Tracker\\n\\nCommodities\\n\\nFixed Deposits\\n\\nFixed Income\\n\\nPersonal Finance\\n\\nMutual Fund\\n\\nPre-Market\\n\\nIPO\\n\\nGlobal Market\\n\\nBudget 2024\\n\\nElections 2024\\n\\nGold Rate\\n\\nBSE Sensex\\n\\nForum\\n\\nMC 30\\n\\nNews\\n\\nBusiness\\n\\nMarkets\\n\\nStocks\\n\\nIncome Tax Calculator\\n\\nElection Schedule 2024\\n\\nIndia News\\n\\nEconomy\\n\\nMutual Funds\\n\\nPersonal Finance\\n\\nIPO News\\n\\nStartups\\n\\nStocks: A | B | C | D | E | F | G | H | I | J | K | L | M | N | O | P | Q | R | S | T | U | V | W | X | Y | Z | Others\\n\\nMutual Funds: A | B | C | D | E | F | G | H | I | J | K | L | M | N | O | P | Q | R | S | T | U | V | W | X | Y | Z\\n\\nVisit the App Store to see all our apps:\\n\\nDownload from Google PlayDownload from APP StoreDownload from Windows Phone\\n\\nTools\\n\\nRetirement Planning\\n\\nEMI Calculator\\n\\nSIP Calculator\\n\\nSIP Planner\\n\\nUseful Links\\n\\nCrypto News\\n\\nBank Holidays in India\\n\\nGold Rate Today\\n\\nSilver Rate Today\\n\\nTrending News\\n\\nStartups\\n\\nNational News\\n\\nMC Videos\\n\\nMC You Tube\\n\\nHouse Purchase Index\\n\\nBest Portfolio Manager\\n\\nSmall Savings Schemes\\n\\nBonds\\n\\nTopperLearning\\n\\nClear Study Doubts\\n\\nEducation Franchisee Opportunity\\n\\nSpecials\\n\\nMaster Your Money\\n\\nGame Changers\\n\\nInvestment Watch\\n\\nPowerYourTrade\\n\\nFocus\\n\\nSME Step Up\\n\\nNetwork 18 Sites\\n\\nNews18\\n\\nFirstpost\\n\\nCNBC TV18\\n\\nNews18 Hindi\\n\\nCricketnext\\n\\nOverdrive\\n\\nTopper Learning\\n\\nAbout us | Contact Us | Advisory Alert | Advertise with Us | Support | Disclaimer | Privacy Policy | Cookie Policy | Terms & Conditions | Careers | Financial Terms (Glossary) | FAQs | Sitemap | RSS Feed | Investors\\n\\nCopyright Â© e-Eighteen.com Ltd. All rights reserved. Reproduction of news articles, photos, videos or any other content in whole or in part in any form or medium without express writtern permission of moneycontrol.com is prohibited.\\n\\nYou got 30 Dayâ\\x80\\x99s Trial of\\n\\nGrab it Now\\n\\nAd-Free Experience\\n\\nTop Articles from Financial Times\\n\\nActionable Insights\\n\\nMC Research\\n\\nEconomic Calendar\\n\\n& Many More\\n\\nYou are already a Moneycontrol Pro user.\\n\\nHarshita Tyagi\")"
      ]
     },
     "execution_count": 39,
     "metadata": {},
     "output_type": "execute_result"
    }
   ],
   "source": [
    "data[0]"
   ]
  },
  {
   "cell_type": "markdown",
   "metadata": {},
   "source": [
    "# Text Splitter\n",
    "\n",
    "* CharacterTextSplitter / RecursiveTextSplitter\n",
    "* Due to token size limit\n",
    "* then merge for uniformity and data distribution in each chunk"
   ]
  },
  {
   "cell_type": "code",
   "execution_count": 41,
   "metadata": {},
   "outputs": [],
   "source": [
    "text = \"\"\"   \n",
    "    New York Dolls is the debut album by the American hard rock band New York Dolls (pictured). It was released in 1973 by Mercury Records. \n",
    "    In the years leading up to the album, the Dolls had developed a local fanbase by playing regularly in lower Manhattan after forming in 1971. \n",
    "    Most music producers and record companies were reluctant to work with them because of their onstage cross-dressing and blatant vulgarity. \n",
    "    The album – a mix of carefree rock and roll, influences from Brill Building pop, and campy sensibilities – explores themes of urban youth, \n",
    "    teen alienation, adolescent romance, and authenticity, as rendered in lead singer David Johansen's colloquial and ambiguous lyrics.\n",
    "    New York Dolls was met with widespread critical acclaim but sold poorly and polarized listeners. Despite its commercial failure,\n",
    "     New York Dolls was an influential precursor to the 1970s punk rock movement. \n",
    "    It has been named in various publications as one of the best debut records in rock music\n",
    "\"\"\""
   ]
  },
  {
   "cell_type": "code",
   "execution_count": 43,
   "metadata": {},
   "outputs": [
    {
     "data": {
      "text/plain": [
       "'   \\n    New York Dolls is the debut album by the American hard rock band New York Dolls (pictured). It was released in 1973 by Mercury Records. \\n    In the years leading up to the album, the Dolls had'"
      ]
     },
     "execution_count": 43,
     "metadata": {},
     "output_type": "execute_result"
    }
   ],
   "source": [
    "text[:200]"
   ]
  },
  {
   "cell_type": "code",
   "execution_count": 46,
   "metadata": {},
   "outputs": [],
   "source": [
    "chunks = []\n",
    "\n",
    "s=\"\"\n",
    "for word in text:\n",
    "    s += word+\"\"\n",
    "    if len(s) > 200:\n",
    "        chunks.append(s)\n",
    "        s=\"\"\n",
    "\n",
    "chunks.append(s)\n"
   ]
  },
  {
   "cell_type": "code",
   "execution_count": 48,
   "metadata": {},
   "outputs": [
    {
     "data": {
      "text/plain": [
       "'   \\n    New York Dolls is the debut album by the American hard rock band New York Dolls (pictured). It was released in 1973 by Mercury Records. \\n    In the years leading up to the album, the Dolls had '"
      ]
     },
     "execution_count": 48,
     "metadata": {},
     "output_type": "execute_result"
    }
   ],
   "source": [
    "chunks[0]"
   ]
  },
  {
   "cell_type": "code",
   "execution_count": 50,
   "metadata": {},
   "outputs": [],
   "source": [
    "from langchain.text_splitter import CharacterTextSplitter\n",
    "\n",
    "## split on each new line character\n",
    "splitter = CharacterTextSplitter(\n",
    "    separator=\"\\n\",\n",
    "    chunk_size=200,\n",
    "    chunk_overlap=0\n",
    ")\n",
    "\n",
    "chunks = splitter.split_text(text)"
   ]
  },
  {
   "cell_type": "code",
   "execution_count": 51,
   "metadata": {},
   "outputs": [
    {
     "data": {
      "text/plain": [
       "7"
      ]
     },
     "execution_count": 51,
     "metadata": {},
     "output_type": "execute_result"
    }
   ],
   "source": [
    "len(chunks)"
   ]
  },
  {
   "cell_type": "code",
   "execution_count": 53,
   "metadata": {},
   "outputs": [
    {
     "name": "stdout",
     "output_type": "stream",
     "text": [
      "135\n",
      "140\n",
      "137\n",
      "138\n",
      "131\n",
      "128\n",
      "170\n"
     ]
    }
   ],
   "source": [
    "for chunk in chunks:\n",
    "    print(len(chunk))"
   ]
  },
  {
   "cell_type": "code",
   "execution_count": 66,
   "metadata": {},
   "outputs": [
    {
     "data": {
      "text/plain": [
       "4"
      ]
     },
     "execution_count": 66,
     "metadata": {},
     "output_type": "execute_result"
    }
   ],
   "source": [
    "from langchain.text_splitter import RecursiveCharacterTextSplitter\n",
    "\n",
    "r_splitter = RecursiveCharacterTextSplitter(\n",
    "    separators=[\"\\n\\n\", \"\\n\", \" \"],\n",
    "    chunk_size=300,\n",
    "    chunk_overlap=0\n",
    ")\n",
    "\n",
    "chunks = r_splitter.split_text(text)\n",
    "len(chunks)"
   ]
  },
  {
   "cell_type": "code",
   "execution_count": 67,
   "metadata": {},
   "outputs": [
    {
     "name": "stdout",
     "output_type": "stream",
     "text": [
      "281\n",
      "281\n",
      "264\n",
      "170\n"
     ]
    }
   ],
   "source": [
    "for chunk in chunks:\n",
    "    print(len(chunk))"
   ]
  },
  {
   "cell_type": "code",
   "execution_count": 68,
   "metadata": {},
   "outputs": [],
   "source": [
    "chunks=text.split(\"\\n\\n\")"
   ]
  },
  {
   "cell_type": "code",
   "execution_count": 69,
   "metadata": {},
   "outputs": [
    {
     "name": "stdout",
     "output_type": "stream",
     "text": [
      "1023\n"
     ]
    }
   ],
   "source": [
    "for chunk in chunks:\n",
    "    print(len(chunk))"
   ]
  },
  {
   "cell_type": "markdown",
   "metadata": {},
   "source": [
    "# Vector DB"
   ]
  },
  {
   "cell_type": "code",
   "execution_count": 70,
   "metadata": {},
   "outputs": [],
   "source": [
    "import pandas as pd\n",
    "\n",
    "pd.set_option('display.max_colwidth', 100)"
   ]
  },
  {
   "cell_type": "code",
   "execution_count": 71,
   "metadata": {},
   "outputs": [
    {
     "data": {
      "text/plain": [
       "(8, 2)"
      ]
     },
     "execution_count": 71,
     "metadata": {},
     "output_type": "execute_result"
    }
   ],
   "source": [
    "df = pd.read_csv(\"sample_text.csv\")\n",
    "df.shape"
   ]
  },
  {
   "cell_type": "code",
   "execution_count": 72,
   "metadata": {},
   "outputs": [
    {
     "data": {
      "text/html": [
       "<div>\n",
       "<style scoped>\n",
       "    .dataframe tbody tr th:only-of-type {\n",
       "        vertical-align: middle;\n",
       "    }\n",
       "\n",
       "    .dataframe tbody tr th {\n",
       "        vertical-align: top;\n",
       "    }\n",
       "\n",
       "    .dataframe thead th {\n",
       "        text-align: right;\n",
       "    }\n",
       "</style>\n",
       "<table border=\"1\" class=\"dataframe\">\n",
       "  <thead>\n",
       "    <tr style=\"text-align: right;\">\n",
       "      <th></th>\n",
       "      <th>text</th>\n",
       "      <th>category</th>\n",
       "    </tr>\n",
       "  </thead>\n",
       "  <tbody>\n",
       "    <tr>\n",
       "      <th>0</th>\n",
       "      <td>Meditation and yoga can improve mental health</td>\n",
       "      <td>Health</td>\n",
       "    </tr>\n",
       "    <tr>\n",
       "      <th>1</th>\n",
       "      <td>Fruits, whole grains and vegetables helps control blood pressure</td>\n",
       "      <td>Health</td>\n",
       "    </tr>\n",
       "    <tr>\n",
       "      <th>2</th>\n",
       "      <td>These are the latest fashion trends for this week</td>\n",
       "      <td>Fashion</td>\n",
       "    </tr>\n",
       "    <tr>\n",
       "      <th>3</th>\n",
       "      <td>Vibrant color jeans for male are becoming a trend</td>\n",
       "      <td>Fashion</td>\n",
       "    </tr>\n",
       "    <tr>\n",
       "      <th>4</th>\n",
       "      <td>The concert starts at 7 PM tonight</td>\n",
       "      <td>Event</td>\n",
       "    </tr>\n",
       "  </tbody>\n",
       "</table>\n",
       "</div>"
      ],
      "text/plain": [
       "                                                               text category\n",
       "0                     Meditation and yoga can improve mental health   Health\n",
       "1  Fruits, whole grains and vegetables helps control blood pressure   Health\n",
       "2                 These are the latest fashion trends for this week  Fashion\n",
       "3                 Vibrant color jeans for male are becoming a trend  Fashion\n",
       "4                                The concert starts at 7 PM tonight    Event"
      ]
     },
     "execution_count": 72,
     "metadata": {},
     "output_type": "execute_result"
    }
   ],
   "source": [
    "df.head()"
   ]
  },
  {
   "cell_type": "code",
   "execution_count": 73,
   "metadata": {},
   "outputs": [
    {
     "data": {
      "text/plain": [
       "(8, 768)"
      ]
     },
     "execution_count": 73,
     "metadata": {},
     "output_type": "execute_result"
    }
   ],
   "source": [
    "# text column to embeddings.\n",
    "from sentence_transformers import SentenceTransformer\n",
    "\n",
    "encoder = SentenceTransformer(\"all-mpnet-base-v2\")\n",
    "vectors = encoder.encode(df.text)\n",
    "vectors.shape"
   ]
  },
  {
   "cell_type": "code",
   "execution_count": 74,
   "metadata": {},
   "outputs": [
    {
     "data": {
      "text/plain": [
       "768"
      ]
     },
     "execution_count": 74,
     "metadata": {},
     "output_type": "execute_result"
    }
   ],
   "source": [
    "dim = vectors.shape[1]\n",
    "dim"
   ]
  },
  {
   "cell_type": "code",
   "execution_count": 76,
   "metadata": {},
   "outputs": [
    {
     "data": {
      "text/plain": [
       "<faiss.swigfaiss.IndexFlatL2; proxy of <Swig Object of type 'faiss::IndexFlatL2 *' at 0x31ec96090> >"
      ]
     },
     "execution_count": 76,
     "metadata": {},
     "output_type": "execute_result"
    }
   ],
   "source": [
    "import faiss\n",
    "\n",
    "index = faiss.IndexFlatL2(dim)\n",
    "index"
   ]
  },
  {
   "cell_type": "code",
   "execution_count": 77,
   "metadata": {},
   "outputs": [],
   "source": [
    "index.add(vectors)"
   ]
  },
  {
   "cell_type": "code",
   "execution_count": 83,
   "metadata": {},
   "outputs": [],
   "source": [
    "search_query = \"I want to buy a polo t-shirt\"\n",
    "vec = encoder.encode(search_query)"
   ]
  },
  {
   "cell_type": "code",
   "execution_count": 87,
   "metadata": {},
   "outputs": [],
   "source": [
    "svec = vec.reshape(1, -1)"
   ]
  },
  {
   "cell_type": "code",
   "execution_count": 94,
   "metadata": {},
   "outputs": [],
   "source": [
    "distances, I = index.search(svec, 2)"
   ]
  },
  {
   "cell_type": "code",
   "execution_count": 95,
   "metadata": {},
   "outputs": [
    {
     "data": {
      "text/html": [
       "<div>\n",
       "<style scoped>\n",
       "    .dataframe tbody tr th:only-of-type {\n",
       "        vertical-align: middle;\n",
       "    }\n",
       "\n",
       "    .dataframe tbody tr th {\n",
       "        vertical-align: top;\n",
       "    }\n",
       "\n",
       "    .dataframe thead th {\n",
       "        text-align: right;\n",
       "    }\n",
       "</style>\n",
       "<table border=\"1\" class=\"dataframe\">\n",
       "  <thead>\n",
       "    <tr style=\"text-align: right;\">\n",
       "      <th></th>\n",
       "      <th>text</th>\n",
       "      <th>category</th>\n",
       "    </tr>\n",
       "  </thead>\n",
       "  <tbody>\n",
       "    <tr>\n",
       "      <th>3</th>\n",
       "      <td>Vibrant color jeans for male are becoming a trend</td>\n",
       "      <td>Fashion</td>\n",
       "    </tr>\n",
       "    <tr>\n",
       "      <th>2</th>\n",
       "      <td>These are the latest fashion trends for this week</td>\n",
       "      <td>Fashion</td>\n",
       "    </tr>\n",
       "  </tbody>\n",
       "</table>\n",
       "</div>"
      ],
      "text/plain": [
       "                                                text category\n",
       "3  Vibrant color jeans for male are becoming a trend  Fashion\n",
       "2  These are the latest fashion trends for this week  Fashion"
      ]
     },
     "execution_count": 95,
     "metadata": {},
     "output_type": "execute_result"
    }
   ],
   "source": [
    "df.loc[I[0]]"
   ]
  },
  {
   "cell_type": "code",
   "execution_count": 96,
   "metadata": {},
   "outputs": [
    {
     "data": {
      "text/plain": [
       "'I want to buy a polo t-shirt'"
      ]
     },
     "execution_count": 96,
     "metadata": {},
     "output_type": "execute_result"
    }
   ],
   "source": [
    "search_query"
   ]
  },
  {
   "cell_type": "markdown",
   "metadata": {},
   "source": [
    "# RetrievalQA With Sources Chain\n",
    "\n",
    "* Relevant chunks to create a LLM prompt.\n",
    "* Give answer based on : chunk2 and chunk8 in one single prompt.(Stuff method)\n",
    "\n",
    "**Stuff method**: simplest of all just append all required chunks and create a combined chunk which is then given with input query.\n",
    "\n",
    "**Drawback:** What if the combined chunk exceeds the token limit of LLM?\n",
    "if we get n relevant chunks which are filtered based on similarity index, \n",
    "we cant add all the chunks in one prompt as it will cross token limit size.\n",
    "\n",
    "**Map Reduce Method** Each chunk is passed through individual llm's which inturn generates filtered content of each \n",
    "chunk by extracting only relevant part to answer the question(tries to reduce the chunk size).(n llm calls)\n",
    "These filtered chunk are then combined to form summary chunk which is then prompted to final LLM to get answer."
   ]
  },
  {
   "cell_type": "code",
   "execution_count": 137,
   "metadata": {},
   "outputs": [],
   "source": [
    "import os \n",
    "from dotenv import load_dotenv\n",
    "import streamlit as st\n",
    "import dill as pickle\n",
    "import time\n",
    "import langchain\n",
    "from langchain_community.llms import OpenAI\n",
    "from langchain.chains import RetrievalQAWithSourcesChain\n",
    "from langchain.chains.qa_with_sources.loading import load_qa_with_sources_chain\n",
    "from langchain.text_splitter import RecursiveCharacterTextSplitter\n",
    "from langchain.document_loaders import UnstructuredURLLoader\n",
    "from langchain.embeddings import OpenAIEmbeddings\n",
    "from langchain.vectorstores import FAISS"
   ]
  },
  {
   "cell_type": "code",
   "execution_count": 104,
   "metadata": {},
   "outputs": [],
   "source": [
    "load_dotenv()\n",
    "os.environ['OPENAI_API_KEY'] = os.getenv('API_KEY')"
   ]
  },
  {
   "cell_type": "code",
   "execution_count": 105,
   "metadata": {},
   "outputs": [
    {
     "data": {
      "text/plain": [
       "2"
      ]
     },
     "execution_count": 105,
     "metadata": {},
     "output_type": "execute_result"
    }
   ],
   "source": [
    "# Initializing LLM with required params\n",
    "llm = OpenAI(temperature=0.9, max_tokens=500)\n",
    "\n",
    "loaders = UnstructuredURLLoader(urls=[\n",
    "    \"https://www.moneycontrol.com/news/business/markets/adani-enterprises-stock-in-focus-as-company-launches-first-tranche-of-qip-to-raise-500-million-12839267.html\",\n",
    "    \"https://www.moneycontrol.com/news/business/capex-for-airports-expressway-green-energy-projects-how-adani-enterprises-plans-to-use-its-qip-proceeds-12839253.html\"\n",
    "])\n",
    "\n",
    "data = loaders.load()\n",
    "len(data)"
   ]
  },
  {
   "cell_type": "code",
   "execution_count": 111,
   "metadata": {},
   "outputs": [
    {
     "data": {
      "text/plain": [
       "Document(metadata={'source': 'https://www.moneycontrol.com/news/business/markets/adani-enterprises-stock-in-focus-as-company-launches-first-tranche-of-qip-to-raise-500-million-12839267.html'}, page_content=\"English\\n\\nHindi\\n\\nGujarati\\n\\nSpecials\\n\\nHello, Login\\n\\nHello, Login\\n\\nLog-inor Sign-Up\\n\\nMy Account\\n\\nMy Profile\\n\\nMy Portfolio\\n\\nMy Watchlist\\n\\nFREE Credit Score₹100 Cash Reward\\n\\nFixed Deposits\\n\\nMy Alerts\\n\\nMy Messages\\n\\nPrice Alerts\\n\\nMy Profile\\n\\nMy PRO\\n\\nMy Portfolio\\n\\nMy Watchlist\\n\\nFREE Credit Score₹100 Cash Reward\\n\\nFixed Deposits\\n\\nMy Alerts\\n\\nMy Messages\\n\\nPrice Alerts\\n\\nLogout\\n\\nChat with Us\\n\\nDownload App\\n\\nFollow us on:\\n\\nGo Ad-Free\\n\\nMy Alerts\\n\\n>->MC_ENG_DESKTOP/MC_ENG_NEWS/MC_ENG_MARKETS_AS/MC_ENG_ROS_NWS_MKTS_AS_ATF_728\\n\\nGo PRO @₹99 PRO\\n\\nAdvertisement\\n\\nRemove Ad\\n\\nBusiness\\n\\nMarkets\\n\\nStocks\\n\\nEconomy\\n\\nCompanies\\n\\nTrends\\n\\nIPO\\n\\nOpinion\\n\\nEV Special\\n\\nHomeNewsBusinessMarketsAdani Enterprises stock in focus as company launches first tranche of QIP to raise $500 million\\n\\nTrending Topics\\n\\nSensex TodayWaaree Energies IPO GMPRallis India Share PriceTech Mahindra Q2KEI Industries Share Price\\n\\nAdani Enterprises stock in focus as company launches first tranche of QIP to raise $500 million\\n\\nAdani Enterprises stock is in the spotlight as the company launches the first tranche of its QIP offering to raise $500 million, with plans for further fundraising in the coming months to support capital expenditure and debt repayment\\n\\nMoneycontrol News\\n\\nOctober 10, 2024 / 08:29 IST\\n\\nAdani Group plans to raise between Rs 30,000 and Rs 40,000 crore from retail investors over the next 3-4 years to diversify sources of funds and mitigate risk.\\n\\nAdani Enterprises stock is in focus after the flagship firm of billionaire Gautam Adani-led conglomerate launched the first tranche of its qualified institutional placement (QIP) offering to raise as much as $500 million, with the intention of launching a second QIP in the coming months to raise more funds.\\n\\nThe company's board had approved a total fundraising of Rs 16,600 crore or approximately $2 billion earlier this year in May. Note that while the QIP launched on October 9 has a base size of $500 million, Adani Enterprises could raise a larger amount using a green shoe option, sources told Moneycontrol, adding that any additional fundraising will depend on investor demand.\\n\\nStory continues below Advertisement\\n\\nRemove Ad\\n\\nThe offering already has a strong investor demand, but the green shoe is a discretionary option for the company to exercise and they may choose not to do so right now and raise additional funds through another QIP in the next three to four months, sources added.\\n\\nOnce approved by shareholders, an equity fundraising resolution is valid for 12 months and a company can raise the total amount through multiple QIPs or a mix of various fundraising routes.\\n\\nFollow our market blog to catch all the live action\\n\\nRelated stories\\n\\nSterlite Technologies share price rallies 6% on new AI Data center push\\n\\nAmbuja Cements Block Deal: Stock slips 2% after shares worth Rs 909 crore change hands\\n\\nCochin Shipyard slips 4% as OFS opens to sell 5% stake at a discount\\n\\nWhile the company was planning to launch the share sale later in the month, plans were advanced due to the escalation of conflict in the Middle East and its impact on global equity flows. Moneycontrol reported on October 9 that Adani Enterprises has tapped Gulf sovereign funds including Abu Dhabi Investment Authority, Qatar Investment Authority and Rajiv Jainâ\\x80\\x99s GQG for the QIP.\\n\\nFunds to be raised from the proposed QIP are planned to be used for capital expenditure purposes as well as to repay some existing debt of the company and its subsidiaries. Adani Enterprises, which acts as an incubator for many of the groupâ\\x80\\x99s new businesses, houses the groupâ\\x80\\x99s airports, mining, infrastructure, data centres and green hydrogen businesses.\\n\\nOn May 28, the company's board approved plans to raise up to Rs 16,600 crore through a QIP. Earlier on September 5, Moneycontrol reported that the Adani Group plans to raise between Rs 30,000 and Rs 40,000 crore from retail investors over the next 3-4 years to diversify sources of funds and mitigate risk.\\n\\nStory continues below Advertisement\\n\\nRemove Ad\\n\\nAlso Read |Â Stock Radar: Britannia, Adani Enterprises, PNC Infratech, TCS, GR Infraprojects, Rain Industries in focus on Thursday\\n\\nShares of Adani Enterprises closed marginally lower at Rs 3,152.40 on the National Stock Exchange (NSE) in the previous session. The stock has risen 8 percent so far this year, underperforming Nifty's returns of around 15 percent.\\n\\nIn the past 12 months, the counter has rallied 26 percent, in-line with Nifty's rise during this period.\\n\\nDisclaimer: The views and investment tips expressed by investment experts on Moneycontrol.com are their own and not those of the website or its management. Moneycontrol.com advises users to check with certified experts before taking any investment decisions.\\n\\nMoneycontrol News\\n\\nTags: #Adani Enterprises #Buzzing Stocks #fundraising #QIP issue\\n\\nfirst published: Oct 10, 2024 08:29 am\\n\\nTop Trends\\n\\nAngel TaxWiproBudget newsNew Income tax slabIPO News\\n\\nAdvertisement\\n\\nRemove Ad\\n\\nTrending news\\n\\nBengaluru rains trigger waterlogging, wall collapse: Spotlight on Phoenix Mall, Manyata Tech 'Falls'\\n\\nBengaluru rains: Flipkart employee shares 'life or death' situation. 'Paid Rs 500 for 6km'\\n\\nHyderabad student gets wrong Chicken 65 order. Zomato says: 'Please have it, you'll love it'\\n\\nScientists claim 2 people 'communicated' in their sleep while lucid dreaming. Here's how\\n\\nMan gets Ratan Tata's face tattooed on chest, shares friend's cancer story: 'real life God'\\n\\nAdvisory Alert:\\n\\nForum Facebook Twitter Instagram Linkedin RSS\\n\\nPortfolio\\n\\nMarkets\\n\\nWatchlist\\n\\nLive TV Show\\n\\nCurrencies\\n\\nFREE Credit Score₹100 Cash Reward\\n\\nFinance Tracker\\n\\nCommodities\\n\\nFixed Deposits\\n\\nFixed Income\\n\\nPersonal Finance\\n\\nMutual Fund\\n\\nPre-Market\\n\\nIPO\\n\\nGlobal Market\\n\\nBudget 2024\\n\\nElections 2024\\n\\nGold Rate\\n\\nBSE Sensex\\n\\nForum\\n\\nMC 30\\n\\nNews\\n\\nBusiness\\n\\nMarkets\\n\\nStocks\\n\\nIncome Tax Calculator\\n\\nElection Schedule 2024\\n\\nIndia News\\n\\nEconomy\\n\\nMutual Funds\\n\\nPersonal Finance\\n\\nIPO News\\n\\nStartups\\n\\nStocks: A | B | C | D | E | F | G | H | I | J | K | L | M | N | O | P | Q | R | S | T | U | V | W | X | Y | Z | Others\\n\\nMutual Funds: A | B | C | D | E | F | G | H | I | J | K | L | M | N | O | P | Q | R | S | T | U | V | W | X | Y | Z\\n\\nVisit the App Store to see all our apps:\\n\\nDownload from Google PlayDownload from APP StoreDownload from Windows Phone\\n\\nTools\\n\\nRetirement Planning\\n\\nEMI Calculator\\n\\nSIP Calculator\\n\\nSIP Planner\\n\\nUseful Links\\n\\nCrypto News\\n\\nBank Holidays in India\\n\\nGold Rate Today\\n\\nSilver Rate Today\\n\\nTrending News\\n\\nStartups\\n\\nNational News\\n\\nMC Videos\\n\\nMC You Tube\\n\\nHouse Purchase Index\\n\\nBest Portfolio Manager\\n\\nSmall Savings Schemes\\n\\nBonds\\n\\nTopperLearning\\n\\nClear Study Doubts\\n\\nEducation Franchisee Opportunity\\n\\nSpecials\\n\\nMaster Your Money\\n\\nGame Changers\\n\\nInvestment Watch\\n\\nPowerYourTrade\\n\\nFocus\\n\\nSME Step Up\\n\\nNetwork 18 Sites\\n\\nNews18\\n\\nFirstpost\\n\\nCNBC TV18\\n\\nNews18 Hindi\\n\\nCricketnext\\n\\nOverdrive\\n\\nTopper Learning\\n\\nAbout us | Contact Us | Advisory Alert | Advertise with Us | Support | Disclaimer | Privacy Policy | Cookie Policy | Terms & Conditions | Careers | Financial Terms (Glossary) | FAQs | Sitemap | RSS Feed | Investors\\n\\nCopyright Â© e-Eighteen.com Ltd. All rights reserved. Reproduction of news articles, photos, videos or any other content in whole or in part in any form or medium without express writtern permission of moneycontrol.com is prohibited.\\n\\nYou got 30 Dayâ\\x80\\x99s Trial of\\n\\nGrab it Now\\n\\nAd-Free Experience\\n\\nTop Articles from Financial Times\\n\\nActionable Insights\\n\\nMC Research\\n\\nEconomic Calendar\\n\\n& Many More\\n\\nYou are already a Moneycontrol Pro user.\\n\\nHarshita Tyagi\")"
      ]
     },
     "execution_count": 111,
     "metadata": {},
     "output_type": "execute_result"
    }
   ],
   "source": [
    "data[0].page_content"
   ]
  },
  {
   "cell_type": "code",
   "execution_count": 121,
   "metadata": {},
   "outputs": [
    {
     "data": {
      "text/plain": [
       "21"
      ]
     },
     "execution_count": 121,
     "metadata": {},
     "output_type": "execute_result"
    }
   ],
   "source": [
    "# Divide into chunks\n",
    "splitter = RecursiveCharacterTextSplitter(\n",
    "    chunk_size=1000,\n",
    "    chunk_overlap=200\n",
    ")\n",
    "\n",
    "docs = splitter.split_documents(data) \n",
    "len(docs)"
   ]
  },
  {
   "cell_type": "code",
   "execution_count": 132,
   "metadata": {},
   "outputs": [
    {
     "name": "stdout",
     "output_type": "stream",
     "text": [
      "973\n",
      "954\n",
      "948\n",
      "683\n",
      "847\n",
      "993\n",
      "990\n",
      "989\n",
      "989\n",
      "219\n",
      "971\n",
      "664\n",
      "969\n",
      "842\n",
      "742\n",
      "962\n",
      "924\n",
      "989\n",
      "919\n",
      "998\n",
      "867\n"
     ]
    }
   ],
   "source": [
    "for doc in docs:\n",
    "    print(len(doc.page_content))"
   ]
  },
  {
   "cell_type": "code",
   "execution_count": 146,
   "metadata": {},
   "outputs": [],
   "source": [
    "embeddings = OpenAIEmbeddings()\n",
    "\n",
    "vectorindex_openai=FAISS.from_documents(docs, embeddings)"
   ]
  },
  {
   "cell_type": "code",
   "execution_count": 142,
   "metadata": {},
   "outputs": [
    {
     "name": "stdout",
     "output_type": "stream",
     "text": [
      "Excluding ssl_context (SSLContext) from being pickled.\n",
      "Object successfully pickled to vector_index.pkl\n"
     ]
    }
   ],
   "source": [
    "# Stroing vector index created in local env\n",
    "import dill as pickle  # Use dill instead of pickle for more flexibility\n",
    "import ssl\n",
    "\n",
    "# Function to handle pickling with exclusion of SSLContext or other non-picklable attributes\n",
    "def clean_for_pickling(obj):\n",
    "    \"\"\"\n",
    "    Remove non-picklable attributes from the object, such as SSLContext,\n",
    "    threading locks, etc.\n",
    "    \"\"\"\n",
    "    state = obj.__dict__.copy()\n",
    "\n",
    "    # Remove the SSLContext if it exists\n",
    "    for key, value in state.items():\n",
    "        if isinstance(value, ssl.SSLContext):\n",
    "            print(f\"Excluding {key} (SSLContext) from being pickled.\")\n",
    "            state[key] = None  # Or set it to None, or reinitialize it later if needed\n",
    "\n",
    "    # Add other exclusions as necessary\n",
    "    # e.g., threading locks or other objects you can't pickle\n",
    "    return state\n",
    "\n",
    "# Assuming vectorindex_openai is a custom object\n",
    "class CustomVectorIndex:\n",
    "    def __init__(self):\n",
    "        self.ssl_context = ssl.create_default_context()  # Example SSLContext attribute\n",
    "        # Add other attributes as necessary\n",
    "\n",
    "    def __getstate__(self):\n",
    "        # Return a cleaned state without non-picklable attributes\n",
    "        return clean_for_pickling(self)\n",
    "\n",
    "    def __setstate__(self, state):\n",
    "        # Restore the SSLContext or other non-picklable attributes\n",
    "        self.__dict__.update(state)\n",
    "        self.ssl_context = ssl.create_default_context()  # Re-create the SSLContext\n",
    "\n",
    "# Create an instance of your class (for demonstration)\n",
    "vectorindex_openai = CustomVectorIndex()\n",
    "\n",
    "# Improved pickling process with error handling\n",
    "file_path = \"vector_index.pkl\"\n",
    "try:\n",
    "    with open(file_path, \"wb\") as f:\n",
    "        pickle.dump(vectorindex_openai, f)\n",
    "    print(f\"Object successfully pickled to {file_path}\")\n",
    "except (TypeError, pickle.PicklingError) as e:\n",
    "    print(f\"Error while pickling: {e}\")\n"
   ]
  },
  {
   "cell_type": "code",
   "execution_count": 143,
   "metadata": {},
   "outputs": [],
   "source": [
    "## loading vector db\n",
    "if os.path.exists(file_path):\n",
    "    with open(file_path, \"rb\") as f:\n",
    "        vectorIndex = pickle.load(f)"
   ]
  },
  {
   "cell_type": "code",
   "execution_count": 147,
   "metadata": {},
   "outputs": [
    {
     "data": {
      "text/plain": [
       "RetrievalQAWithSourcesChain(verbose=False, combine_documents_chain=MapReduceDocumentsChain(verbose=False, llm_chain=LLMChain(verbose=False, prompt=PromptTemplate(input_variables=['context', 'question'], input_types={}, partial_variables={}, template='Use the following portion of a long document to see if any of the text is relevant to answer the question. \\nReturn any relevant text verbatim.\\n{context}\\nQuestion: {question}\\nRelevant text, if any:'), llm=OpenAI(client=<openai.resources.completions.Completions object at 0x3370b8250>, async_client=<openai.resources.completions.AsyncCompletions object at 0x3370c9e20>, temperature=0.9, max_tokens=500, model_kwargs={}, openai_api_key='sk-svcacct-5BryCepVY0yXUk9zXgy4T3BlbkFJahywfoF3J3nm01MVLv6i', openai_proxy='', logit_bias={}), output_parser=StrOutputParser(), llm_kwargs={}), reduce_documents_chain=ReduceDocumentsChain(verbose=False, combine_documents_chain=StuffDocumentsChain(verbose=False, llm_chain=LLMChain(verbose=False, prompt=PromptTemplate(input_variables=['question', 'summaries'], input_types={}, partial_variables={}, template='Given the following extracted parts of a long document and a question, create a final answer with references (\"SOURCES\"). \\nIf you don\\'t know the answer, just say that you don\\'t know. Don\\'t try to make up an answer.\\nALWAYS return a \"SOURCES\" part in your answer.\\n\\nQUESTION: Which state/country\\'s law governs the interpretation of the contract?\\n=========\\nContent: This Agreement is governed by English law and the parties submit to the exclusive jurisdiction of the English courts in  relation to any dispute (contractual or non-contractual) concerning this Agreement save that either party may apply to any court for an  injunction or other relief to protect its Intellectual Property Rights.\\nSource: 28-pl\\nContent: No Waiver. Failure or delay in exercising any right or remedy under this Agreement shall not constitute a waiver of such (or any other)  right or remedy.\\n\\n11.7 Severability. The invalidity, illegality or unenforceability of any term (or part of a term) of this Agreement shall not affect the continuation  in force of the remainder of the term (if any) and this Agreement.\\n\\n11.8 No Agency. Except as expressly stated otherwise, nothing in this Agreement shall create an agency, partnership or joint venture of any  kind between the parties.\\n\\n11.9 No Third-Party Beneficiaries.\\nSource: 30-pl\\nContent: (b) if Google believes, in good faith, that the Distributor has violated or caused Google to violate any Anti-Bribery Laws (as  defined in Clause 8.5) or that such a violation is reasonably likely to occur,\\nSource: 4-pl\\n=========\\nFINAL ANSWER: This Agreement is governed by English law.\\nSOURCES: 28-pl\\n\\nQUESTION: What did the president say about Michael Jackson?\\n=========\\nContent: Madam Speaker, Madam Vice President, our First Lady and Second Gentleman. Members of Congress and the Cabinet. Justices of the Supreme Court. My fellow Americans.  \\n\\nLast year COVID-19 kept us apart. This year we are finally together again. \\n\\nTonight, we meet as Democrats Republicans and Independents. But most importantly as Americans. \\n\\nWith a duty to one another to the American people to the Constitution. \\n\\nAnd with an unwavering resolve that freedom will always triumph over tyranny. \\n\\nSix days ago, Russia’s Vladimir Putin sought to shake the foundations of the free world thinking he could make it bend to his menacing ways. But he badly miscalculated. \\n\\nHe thought he could roll into Ukraine and the world would roll over. Instead he met a wall of strength he never imagined. \\n\\nHe met the Ukrainian people. \\n\\nFrom President Zelenskyy to every Ukrainian, their fearlessness, their courage, their determination, inspires the world. \\n\\nGroups of citizens blocking tanks with their bodies. Everyone from students to retirees teachers turned soldiers defending their homeland.\\nSource: 0-pl\\nContent: And we won’t stop. \\n\\nWe have lost so much to COVID-19. Time with one another. And worst of all, so much loss of life. \\n\\nLet’s use this moment to reset. Let’s stop looking at COVID-19 as a partisan dividing line and see it for what it is: A God-awful disease.  \\n\\nLet’s stop seeing each other as enemies, and start seeing each other for who we really are: Fellow Americans.  \\n\\nWe can’t change how divided we’ve been. But we can change how we move forward—on COVID-19 and other issues we must face together. \\n\\nI recently visited the New York City Police Department days after the funerals of Officer Wilbert Mora and his partner, Officer Jason Rivera. \\n\\nThey were responding to a 9-1-1 call when a man shot and killed them with a stolen gun. \\n\\nOfficer Mora was 27 years old. \\n\\nOfficer Rivera was 22. \\n\\nBoth Dominican Americans who’d grown up on the same streets they later chose to patrol as police officers. \\n\\nI spoke with their families and told them that we are forever in debt for their sacrifice, and we will carry on their mission to restore the trust and safety every community deserves.\\nSource: 24-pl\\nContent: And a proud Ukrainian people, who have known 30 years  of independence, have repeatedly shown that they will not tolerate anyone who tries to take their country backwards.  \\n\\nTo all Americans, I will be honest with you, as I’ve always promised. A Russian dictator, invading a foreign country, has costs around the world. \\n\\nAnd I’m taking robust action to make sure the pain of our sanctions  is targeted at Russia’s economy. And I will use every tool at our disposal to protect American businesses and consumers. \\n\\nTonight, I can announce that the United States has worked with 30 other countries to release 60 Million barrels of oil from reserves around the world.  \\n\\nAmerica will lead that effort, releasing 30 Million barrels from our own Strategic Petroleum Reserve. And we stand ready to do more if necessary, unified with our allies.  \\n\\nThese steps will help blunt gas prices here at home. And I know the news about what’s happening can seem alarming. \\n\\nBut I want you to know that we are going to be okay.\\nSource: 5-pl\\nContent: More support for patients and families. \\n\\nTo get there, I call on Congress to fund ARPA-H, the Advanced Research Projects Agency for Health. \\n\\nIt’s based on DARPA—the Defense Department project that led to the Internet, GPS, and so much more.  \\n\\nARPA-H will have a singular purpose—to drive breakthroughs in cancer, Alzheimer’s, diabetes, and more. \\n\\nA unity agenda for the nation. \\n\\nWe can do this. \\n\\nMy fellow Americans—tonight , we have gathered in a sacred space—the citadel of our democracy. \\n\\nIn this Capitol, generation after generation, Americans have debated great questions amid great strife, and have done great things. \\n\\nWe have fought for freedom, expanded liberty, defeated totalitarianism and terror. \\n\\nAnd built the strongest, freest, and most prosperous nation the world has ever known. \\n\\nNow is the hour. \\n\\nOur moment of responsibility. \\n\\nOur test of resolve and conscience, of history itself. \\n\\nIt is in this moment that our character is formed. Our purpose is found. Our future is forged. \\n\\nWell I know this nation.\\nSource: 34-pl\\n=========\\nFINAL ANSWER: The president did not mention Michael Jackson.\\nSOURCES:\\n\\nQUESTION: {question}\\n=========\\n{summaries}\\n=========\\nFINAL ANSWER:'), llm=OpenAI(client=<openai.resources.completions.Completions object at 0x3370b8250>, async_client=<openai.resources.completions.AsyncCompletions object at 0x3370c9e20>, temperature=0.9, max_tokens=500, model_kwargs={}, openai_api_key='sk-svcacct-5BryCepVY0yXUk9zXgy4T3BlbkFJahywfoF3J3nm01MVLv6i', openai_proxy='', logit_bias={}), output_parser=StrOutputParser(), llm_kwargs={}), document_prompt=PromptTemplate(input_variables=['page_content', 'source'], input_types={}, partial_variables={}, template='Content: {page_content}\\nSource: {source}'), document_variable_name='summaries')), document_variable_name='context'), retriever=VectorStoreRetriever(tags=['FAISS', 'OpenAIEmbeddings'], vectorstore=<langchain_community.vectorstores.faiss.FAISS object at 0x33e1489a0>, search_kwargs={}))"
      ]
     },
     "execution_count": 147,
     "metadata": {},
     "output_type": "execute_result"
    }
   ],
   "source": [
    "chain = RetrievalQAWithSourcesChain.from_llm(llm=llm, retriever=vectorindex_openai.as_retriever())\n",
    "chain"
   ]
  },
  {
   "cell_type": "code",
   "execution_count": 148,
   "metadata": {},
   "outputs": [
    {
     "name": "stdout",
     "output_type": "stream",
     "text": [
      "\u001b[32;1m\u001b[1;3m[chain/start]\u001b[0m \u001b[1m[chain:RetrievalQAWithSourcesChain] Entering Chain run with input:\n",
      "\u001b[0m{\n",
      "  \"question\": \"what is the total fundraising of adani group?\"\n",
      "}\n",
      "\u001b[32;1m\u001b[1;3m[chain/start]\u001b[0m \u001b[1m[chain:RetrievalQAWithSourcesChain > chain:MapReduceDocumentsChain] Entering Chain run with input:\n",
      "\u001b[0m[inputs]\n",
      "\u001b[32;1m\u001b[1;3m[chain/start]\u001b[0m \u001b[1m[chain:RetrievalQAWithSourcesChain > chain:MapReduceDocumentsChain > chain:LLMChain] Entering Chain run with input:\n",
      "\u001b[0m{\n",
      "  \"input_list\": [\n",
      "    {\n",
      "      \"context\": \"The company's board had approved a total fundraising of Rs 16,600 crore or approximately $2 billion earlier this year in May. Note that while the QIP launched on October 9 has a base size of $500 million, Adani Enterprises could raise a larger amount using a green shoe option, sources told Moneycontrol, adding that any additional fundraising will depend on investor demand.\\n\\nStory continues below Advertisement\\n\\nRemove Ad\\n\\nThe offering already has a strong investor demand, but the green shoe is a discretionary option for the company to exercise and they may choose not to do so right now and raise additional funds through another QIP in the next three to four months, sources added.\\n\\nOnce approved by shareholders, an equity fundraising resolution is valid for 12 months and a company can raise the total amount through multiple QIPs or a mix of various fundraising routes.\\n\\nFollow our market blog to catch all the live action\\n\\nRelated stories\",\n",
      "      \"question\": \"what is the total fundraising of adani group?\"\n",
      "    },\n",
      "    {\n",
      "      \"context\": \"Funds to be raised from the proposed QIP are planned to be used for capital expenditure purposes as well as to repay some existing debt of the company and its subsidiaries. Adani Enterprises, which acts as an incubator for many of the groupâs new businesses, houses the groupâs airports, mining, infrastructure, data centres and green hydrogen businesses.\\n\\nOn May 28, the company's board approved plans to raise up to Rs 16,600 crore through a QIP. Earlier on September 5, Moneycontrol reported that the Adani Group plans to raise between Rs 30,000 and Rs 40,000 crore from retail investors over the next 3-4 years to diversify sources of funds and mitigate risk.\\n\\nStory continues below Advertisement\\n\\nRemove Ad\\n\\nAlso Read |Â Stock Radar: Britannia, Adani Enterprises, PNC Infratech, TCS, GR Infraprojects, Rain Industries in focus on Thursday\",\n",
      "      \"question\": \"what is the total fundraising of adani group?\"\n",
      "    },\n",
      "    {\n",
      "      \"context\": \"Funds will also be used for setting up a solar module manufacturing and solar cell manufacturing facility by Adani New Industries Limited.\\n\\nAdani is proposing to set up a 4.25 GW solar module and 5.07 GW solar cell manufacturing unit, in addition to the already existing 2 GW ingot-wafer manufacturing line. The capex for this project is estimated at Rs 7,657 crore. As of June 30, 2024, Adani had an operational capacity of 4 GW cell and module line.\\n\\nStory continues below Advertisement\\n\\nRemove Ad\\n\\nStory continues below Advertisement\\n\\nRemove Ad\\n\\nCapex for airports\\n\\nAdani Airport Holdings Limited has drawn up capex plans worth Rs 12,442 crore for its six airports at Ahmedabad, Jaipur, Lucknow, Guwahati, Mangaluru and Thiruvananthapuram.\",\n",
      "      \"question\": \"what is the total fundraising of adani group?\"\n",
      "    },\n",
      "    {\n",
      "      \"context\": \"Sensex TodayWaaree Energies IPO GMPRallis India Share PriceTech Mahindra Q2KEI Industries Share Price\\n\\nAdani Enterprises stock in focus as company launches first tranche of QIP to raise $500 million\\n\\nAdani Enterprises stock is in the spotlight as the company launches the first tranche of its QIP offering to raise $500 million, with plans for further fundraising in the coming months to support capital expenditure and debt repayment\\n\\nMoneycontrol News\\n\\nOctober 10, 2024 / 08:29 IST\\n\\nAdani Group plans to raise between Rs 30,000 and Rs 40,000 crore from retail investors over the next 3-4 years to diversify sources of funds and mitigate risk.\\n\\nAdani Enterprises stock is in focus after the flagship firm of billionaire Gautam Adani-led conglomerate launched the first tranche of its qualified institutional placement (QIP) offering to raise as much as $500 million, with the intention of launching a second QIP in the coming months to raise more funds.\",\n",
      "      \"question\": \"what is the total fundraising of adani group?\"\n",
      "    }\n",
      "  ]\n",
      "}\n",
      "\u001b[32;1m\u001b[1;3m[llm/start]\u001b[0m \u001b[1m[chain:RetrievalQAWithSourcesChain > chain:MapReduceDocumentsChain > chain:LLMChain > llm:OpenAI] Entering LLM run with input:\n",
      "\u001b[0m{\n",
      "  \"prompts\": [\n",
      "    \"Use the following portion of a long document to see if any of the text is relevant to answer the question. \\nReturn any relevant text verbatim.\\nThe company's board had approved a total fundraising of Rs 16,600 crore or approximately $2 billion earlier this year in May. Note that while the QIP launched on October 9 has a base size of $500 million, Adani Enterprises could raise a larger amount using a green shoe option, sources told Moneycontrol, adding that any additional fundraising will depend on investor demand.\\n\\nStory continues below Advertisement\\n\\nRemove Ad\\n\\nThe offering already has a strong investor demand, but the green shoe is a discretionary option for the company to exercise and they may choose not to do so right now and raise additional funds through another QIP in the next three to four months, sources added.\\n\\nOnce approved by shareholders, an equity fundraising resolution is valid for 12 months and a company can raise the total amount through multiple QIPs or a mix of various fundraising routes.\\n\\nFollow our market blog to catch all the live action\\n\\nRelated stories\\nQuestion: what is the total fundraising of adani group?\\nRelevant text, if any:\"\n",
      "  ]\n",
      "}\n",
      "\u001b[32;1m\u001b[1;3m[llm/start]\u001b[0m \u001b[1m[chain:RetrievalQAWithSourcesChain > chain:MapReduceDocumentsChain > chain:LLMChain > llm:OpenAI] Entering LLM run with input:\n",
      "\u001b[0m{\n",
      "  \"prompts\": [\n",
      "    \"Use the following portion of a long document to see if any of the text is relevant to answer the question. \\nReturn any relevant text verbatim.\\nFunds to be raised from the proposed QIP are planned to be used for capital expenditure purposes as well as to repay some existing debt of the company and its subsidiaries. Adani Enterprises, which acts as an incubator for many of the groupâs new businesses, houses the groupâs airports, mining, infrastructure, data centres and green hydrogen businesses.\\n\\nOn May 28, the company's board approved plans to raise up to Rs 16,600 crore through a QIP. Earlier on September 5, Moneycontrol reported that the Adani Group plans to raise between Rs 30,000 and Rs 40,000 crore from retail investors over the next 3-4 years to diversify sources of funds and mitigate risk.\\n\\nStory continues below Advertisement\\n\\nRemove Ad\\n\\nAlso Read |Â Stock Radar: Britannia, Adani Enterprises, PNC Infratech, TCS, GR Infraprojects, Rain Industries in focus on Thursday\\nQuestion: what is the total fundraising of adani group?\\nRelevant text, if any:\"\n",
      "  ]\n",
      "}\n",
      "\u001b[32;1m\u001b[1;3m[llm/start]\u001b[0m \u001b[1m[chain:RetrievalQAWithSourcesChain > chain:MapReduceDocumentsChain > chain:LLMChain > llm:OpenAI] Entering LLM run with input:\n",
      "\u001b[0m{\n",
      "  \"prompts\": [\n",
      "    \"Use the following portion of a long document to see if any of the text is relevant to answer the question. \\nReturn any relevant text verbatim.\\nFunds will also be used for setting up a solar module manufacturing and solar cell manufacturing facility by Adani New Industries Limited.\\n\\nAdani is proposing to set up a 4.25 GW solar module and 5.07 GW solar cell manufacturing unit, in addition to the already existing 2 GW ingot-wafer manufacturing line. The capex for this project is estimated at Rs 7,657 crore. As of June 30, 2024, Adani had an operational capacity of 4 GW cell and module line.\\n\\nStory continues below Advertisement\\n\\nRemove Ad\\n\\nStory continues below Advertisement\\n\\nRemove Ad\\n\\nCapex for airports\\n\\nAdani Airport Holdings Limited has drawn up capex plans worth Rs 12,442 crore for its six airports at Ahmedabad, Jaipur, Lucknow, Guwahati, Mangaluru and Thiruvananthapuram.\\nQuestion: what is the total fundraising of adani group?\\nRelevant text, if any:\"\n",
      "  ]\n",
      "}\n",
      "\u001b[32;1m\u001b[1;3m[llm/start]\u001b[0m \u001b[1m[chain:RetrievalQAWithSourcesChain > chain:MapReduceDocumentsChain > chain:LLMChain > llm:OpenAI] Entering LLM run with input:\n",
      "\u001b[0m{\n",
      "  \"prompts\": [\n",
      "    \"Use the following portion of a long document to see if any of the text is relevant to answer the question. \\nReturn any relevant text verbatim.\\nSensex TodayWaaree Energies IPO GMPRallis India Share PriceTech Mahindra Q2KEI Industries Share Price\\n\\nAdani Enterprises stock in focus as company launches first tranche of QIP to raise $500 million\\n\\nAdani Enterprises stock is in the spotlight as the company launches the first tranche of its QIP offering to raise $500 million, with plans for further fundraising in the coming months to support capital expenditure and debt repayment\\n\\nMoneycontrol News\\n\\nOctober 10, 2024 / 08:29 IST\\n\\nAdani Group plans to raise between Rs 30,000 and Rs 40,000 crore from retail investors over the next 3-4 years to diversify sources of funds and mitigate risk.\\n\\nAdani Enterprises stock is in focus after the flagship firm of billionaire Gautam Adani-led conglomerate launched the first tranche of its qualified institutional placement (QIP) offering to raise as much as $500 million, with the intention of launching a second QIP in the coming months to raise more funds.\\nQuestion: what is the total fundraising of adani group?\\nRelevant text, if any:\"\n",
      "  ]\n",
      "}\n",
      "\u001b[36;1m\u001b[1;3m[llm/end]\u001b[0m \u001b[1m[chain:RetrievalQAWithSourcesChain > chain:MapReduceDocumentsChain > chain:LLMChain > llm:OpenAI] [7.76s] Exiting LLM run with output:\n",
      "\u001b[0m{\n",
      "  \"generations\": [\n",
      "    [\n",
      "      {\n",
      "        \"text\": \" The company's board had approved a total fundraising of Rs 16,600 crore or approximately $2 billion earlier this year in May. Note that while the QIP launched on October 9 has a base size of $500 million, Adani Enterprises could raise a larger amount using a green shoe option, sources told Moneycontrol, adding that any additional fundraising will depend on investor demand.\",\n",
      "        \"generation_info\": {\n",
      "          \"finish_reason\": \"stop\",\n",
      "          \"logprobs\": null\n",
      "        },\n",
      "        \"type\": \"Generation\"\n",
      "      }\n",
      "    ]\n",
      "  ],\n",
      "  \"llm_output\": {\n",
      "    \"token_usage\": {\n",
      "      \"total_tokens\": 1181,\n",
      "      \"prompt_tokens\": 971,\n",
      "      \"completion_tokens\": 210\n",
      "    },\n",
      "    \"model_name\": \"gpt-3.5-turbo-instruct\"\n",
      "  },\n",
      "  \"run\": null,\n",
      "  \"type\": \"LLMResult\"\n",
      "}\n",
      "\u001b[36;1m\u001b[1;3m[llm/end]\u001b[0m \u001b[1m[chain:RetrievalQAWithSourcesChain > chain:MapReduceDocumentsChain > chain:LLMChain > llm:OpenAI] [7.76s] Exiting LLM run with output:\n",
      "\u001b[0m{\n",
      "  \"generations\": [\n",
      "    [\n",
      "      {\n",
      "        \"text\": \" On May 28, the company's board approved plans to raise up to Rs 16,600 crore through a QIP. Earlier on September 5, Moneycontrol reported that the Adani Group plans to raise between Rs 30,000 and Rs 40,000 crore from retail investors over the next 3-4 years to diversify sources of funds and mitigate risk.\",\n",
      "        \"generation_info\": {\n",
      "          \"finish_reason\": \"stop\",\n",
      "          \"logprobs\": null\n",
      "        },\n",
      "        \"type\": \"Generation\"\n",
      "      }\n",
      "    ]\n",
      "  ],\n",
      "  \"llm_output\": {\n",
      "    \"token_usage\": {},\n",
      "    \"model_name\": \"gpt-3.5-turbo-instruct\"\n",
      "  },\n",
      "  \"run\": null,\n",
      "  \"type\": \"LLMResult\"\n",
      "}\n",
      "\u001b[36;1m\u001b[1;3m[llm/end]\u001b[0m \u001b[1m[chain:RetrievalQAWithSourcesChain > chain:MapReduceDocumentsChain > chain:LLMChain > llm:OpenAI] [7.76s] Exiting LLM run with output:\n",
      "\u001b[0m{\n",
      "  \"generations\": [\n",
      "    [\n",
      "      {\n",
      "        \"text\": \" Adani had an operational capacity of 4 GW cell and module line.\",\n",
      "        \"generation_info\": {\n",
      "          \"finish_reason\": \"stop\",\n",
      "          \"logprobs\": null\n",
      "        },\n",
      "        \"type\": \"Generation\"\n",
      "      }\n",
      "    ]\n",
      "  ],\n",
      "  \"llm_output\": {\n",
      "    \"token_usage\": {},\n",
      "    \"model_name\": \"gpt-3.5-turbo-instruct\"\n",
      "  },\n",
      "  \"run\": null,\n",
      "  \"type\": \"LLMResult\"\n",
      "}\n",
      "\u001b[36;1m\u001b[1;3m[llm/end]\u001b[0m \u001b[1m[chain:RetrievalQAWithSourcesChain > chain:MapReduceDocumentsChain > chain:LLMChain > llm:OpenAI] [7.76s] Exiting LLM run with output:\n",
      "\u001b[0m{\n",
      "  \"generations\": [\n",
      "    [\n",
      "      {\n",
      "        \"text\": \" \\\"Adani Group plans to raise between Rs 30,000 and Rs 40,000 crore from retail investors over the next 3-4 years to diversify sources of funds and mitigate risk.\\\"\",\n",
      "        \"generation_info\": {\n",
      "          \"finish_reason\": \"stop\",\n",
      "          \"logprobs\": null\n",
      "        },\n",
      "        \"type\": \"Generation\"\n",
      "      }\n",
      "    ]\n",
      "  ],\n",
      "  \"llm_output\": {\n",
      "    \"token_usage\": {},\n",
      "    \"model_name\": \"gpt-3.5-turbo-instruct\"\n",
      "  },\n",
      "  \"run\": null,\n",
      "  \"type\": \"LLMResult\"\n",
      "}\n",
      "\u001b[36;1m\u001b[1;3m[chain/end]\u001b[0m \u001b[1m[chain:RetrievalQAWithSourcesChain > chain:MapReduceDocumentsChain > chain:LLMChain] [7.76s] Exiting Chain run with output:\n",
      "\u001b[0m{\n",
      "  \"outputs\": [\n",
      "    {\n",
      "      \"text\": \" The company's board had approved a total fundraising of Rs 16,600 crore or approximately $2 billion earlier this year in May. Note that while the QIP launched on October 9 has a base size of $500 million, Adani Enterprises could raise a larger amount using a green shoe option, sources told Moneycontrol, adding that any additional fundraising will depend on investor demand.\"\n",
      "    },\n",
      "    {\n",
      "      \"text\": \" On May 28, the company's board approved plans to raise up to Rs 16,600 crore through a QIP. Earlier on September 5, Moneycontrol reported that the Adani Group plans to raise between Rs 30,000 and Rs 40,000 crore from retail investors over the next 3-4 years to diversify sources of funds and mitigate risk.\"\n",
      "    },\n",
      "    {\n",
      "      \"text\": \" Adani had an operational capacity of 4 GW cell and module line.\"\n",
      "    },\n",
      "    {\n",
      "      \"text\": \" \\\"Adani Group plans to raise between Rs 30,000 and Rs 40,000 crore from retail investors over the next 3-4 years to diversify sources of funds and mitigate risk.\\\"\"\n",
      "    }\n",
      "  ]\n",
      "}\n",
      "\u001b[32;1m\u001b[1;3m[chain/start]\u001b[0m \u001b[1m[chain:RetrievalQAWithSourcesChain > chain:MapReduceDocumentsChain > chain:LLMChain] Entering Chain run with input:\n",
      "\u001b[0m{\n",
      "  \"question\": \"what is the total fundraising of adani group?\",\n",
      "  \"summaries\": \"Content:  The company's board had approved a total fundraising of Rs 16,600 crore or approximately $2 billion earlier this year in May. Note that while the QIP launched on October 9 has a base size of $500 million, Adani Enterprises could raise a larger amount using a green shoe option, sources told Moneycontrol, adding that any additional fundraising will depend on investor demand.\\nSource: https://www.moneycontrol.com/news/business/markets/adani-enterprises-stock-in-focus-as-company-launches-first-tranche-of-qip-to-raise-500-million-12839267.html\\n\\nContent:  On May 28, the company's board approved plans to raise up to Rs 16,600 crore through a QIP. Earlier on September 5, Moneycontrol reported that the Adani Group plans to raise between Rs 30,000 and Rs 40,000 crore from retail investors over the next 3-4 years to diversify sources of funds and mitigate risk.\\nSource: https://www.moneycontrol.com/news/business/markets/adani-enterprises-stock-in-focus-as-company-launches-first-tranche-of-qip-to-raise-500-million-12839267.html\\n\\nContent:  Adani had an operational capacity of 4 GW cell and module line.\\nSource: https://www.moneycontrol.com/news/business/capex-for-airports-expressway-green-energy-projects-how-adani-enterprises-plans-to-use-its-qip-proceeds-12839253.html\\n\\nContent:  \\\"Adani Group plans to raise between Rs 30,000 and Rs 40,000 crore from retail investors over the next 3-4 years to diversify sources of funds and mitigate risk.\\\"\\nSource: https://www.moneycontrol.com/news/business/markets/adani-enterprises-stock-in-focus-as-company-launches-first-tranche-of-qip-to-raise-500-million-12839267.html\"\n",
      "}\n",
      "\u001b[32;1m\u001b[1;3m[llm/start]\u001b[0m \u001b[1m[chain:RetrievalQAWithSourcesChain > chain:MapReduceDocumentsChain > chain:LLMChain > llm:OpenAI] Entering LLM run with input:\n",
      "\u001b[0m{\n",
      "  \"prompts\": [\n",
      "    \"Given the following extracted parts of a long document and a question, create a final answer with references (\\\"SOURCES\\\"). \\nIf you don't know the answer, just say that you don't know. Don't try to make up an answer.\\nALWAYS return a \\\"SOURCES\\\" part in your answer.\\n\\nQUESTION: Which state/country's law governs the interpretation of the contract?\\n=========\\nContent: This Agreement is governed by English law and the parties submit to the exclusive jurisdiction of the English courts in  relation to any dispute (contractual or non-contractual) concerning this Agreement save that either party may apply to any court for an  injunction or other relief to protect its Intellectual Property Rights.\\nSource: 28-pl\\nContent: No Waiver. Failure or delay in exercising any right or remedy under this Agreement shall not constitute a waiver of such (or any other)  right or remedy.\\n\\n11.7 Severability. The invalidity, illegality or unenforceability of any term (or part of a term) of this Agreement shall not affect the continuation  in force of the remainder of the term (if any) and this Agreement.\\n\\n11.8 No Agency. Except as expressly stated otherwise, nothing in this Agreement shall create an agency, partnership or joint venture of any  kind between the parties.\\n\\n11.9 No Third-Party Beneficiaries.\\nSource: 30-pl\\nContent: (b) if Google believes, in good faith, that the Distributor has violated or caused Google to violate any Anti-Bribery Laws (as  defined in Clause 8.5) or that such a violation is reasonably likely to occur,\\nSource: 4-pl\\n=========\\nFINAL ANSWER: This Agreement is governed by English law.\\nSOURCES: 28-pl\\n\\nQUESTION: What did the president say about Michael Jackson?\\n=========\\nContent: Madam Speaker, Madam Vice President, our First Lady and Second Gentleman. Members of Congress and the Cabinet. Justices of the Supreme Court. My fellow Americans.  \\n\\nLast year COVID-19 kept us apart. This year we are finally together again. \\n\\nTonight, we meet as Democrats Republicans and Independents. But most importantly as Americans. \\n\\nWith a duty to one another to the American people to the Constitution. \\n\\nAnd with an unwavering resolve that freedom will always triumph over tyranny. \\n\\nSix days ago, Russia’s Vladimir Putin sought to shake the foundations of the free world thinking he could make it bend to his menacing ways. But he badly miscalculated. \\n\\nHe thought he could roll into Ukraine and the world would roll over. Instead he met a wall of strength he never imagined. \\n\\nHe met the Ukrainian people. \\n\\nFrom President Zelenskyy to every Ukrainian, their fearlessness, their courage, their determination, inspires the world. \\n\\nGroups of citizens blocking tanks with their bodies. Everyone from students to retirees teachers turned soldiers defending their homeland.\\nSource: 0-pl\\nContent: And we won’t stop. \\n\\nWe have lost so much to COVID-19. Time with one another. And worst of all, so much loss of life. \\n\\nLet’s use this moment to reset. Let’s stop looking at COVID-19 as a partisan dividing line and see it for what it is: A God-awful disease.  \\n\\nLet’s stop seeing each other as enemies, and start seeing each other for who we really are: Fellow Americans.  \\n\\nWe can’t change how divided we’ve been. But we can change how we move forward—on COVID-19 and other issues we must face together. \\n\\nI recently visited the New York City Police Department days after the funerals of Officer Wilbert Mora and his partner, Officer Jason Rivera. \\n\\nThey were responding to a 9-1-1 call when a man shot and killed them with a stolen gun. \\n\\nOfficer Mora was 27 years old. \\n\\nOfficer Rivera was 22. \\n\\nBoth Dominican Americans who’d grown up on the same streets they later chose to patrol as police officers. \\n\\nI spoke with their families and told them that we are forever in debt for their sacrifice, and we will carry on their mission to restore the trust and safety every community deserves.\\nSource: 24-pl\\nContent: And a proud Ukrainian people, who have known 30 years  of independence, have repeatedly shown that they will not tolerate anyone who tries to take their country backwards.  \\n\\nTo all Americans, I will be honest with you, as I’ve always promised. A Russian dictator, invading a foreign country, has costs around the world. \\n\\nAnd I’m taking robust action to make sure the pain of our sanctions  is targeted at Russia’s economy. And I will use every tool at our disposal to protect American businesses and consumers. \\n\\nTonight, I can announce that the United States has worked with 30 other countries to release 60 Million barrels of oil from reserves around the world.  \\n\\nAmerica will lead that effort, releasing 30 Million barrels from our own Strategic Petroleum Reserve. And we stand ready to do more if necessary, unified with our allies.  \\n\\nThese steps will help blunt gas prices here at home. And I know the news about what’s happening can seem alarming. \\n\\nBut I want you to know that we are going to be okay.\\nSource: 5-pl\\nContent: More support for patients and families. \\n\\nTo get there, I call on Congress to fund ARPA-H, the Advanced Research Projects Agency for Health. \\n\\nIt’s based on DARPA—the Defense Department project that led to the Internet, GPS, and so much more.  \\n\\nARPA-H will have a singular purpose—to drive breakthroughs in cancer, Alzheimer’s, diabetes, and more. \\n\\nA unity agenda for the nation. \\n\\nWe can do this. \\n\\nMy fellow Americans—tonight , we have gathered in a sacred space—the citadel of our democracy. \\n\\nIn this Capitol, generation after generation, Americans have debated great questions amid great strife, and have done great things. \\n\\nWe have fought for freedom, expanded liberty, defeated totalitarianism and terror. \\n\\nAnd built the strongest, freest, and most prosperous nation the world has ever known. \\n\\nNow is the hour. \\n\\nOur moment of responsibility. \\n\\nOur test of resolve and conscience, of history itself. \\n\\nIt is in this moment that our character is formed. Our purpose is found. Our future is forged. \\n\\nWell I know this nation.\\nSource: 34-pl\\n=========\\nFINAL ANSWER: The president did not mention Michael Jackson.\\nSOURCES:\\n\\nQUESTION: what is the total fundraising of adani group?\\n=========\\nContent:  The company's board had approved a total fundraising of Rs 16,600 crore or approximately $2 billion earlier this year in May. Note that while the QIP launched on October 9 has a base size of $500 million, Adani Enterprises could raise a larger amount using a green shoe option, sources told Moneycontrol, adding that any additional fundraising will depend on investor demand.\\nSource: https://www.moneycontrol.com/news/business/markets/adani-enterprises-stock-in-focus-as-company-launches-first-tranche-of-qip-to-raise-500-million-12839267.html\\n\\nContent:  On May 28, the company's board approved plans to raise up to Rs 16,600 crore through a QIP. Earlier on September 5, Moneycontrol reported that the Adani Group plans to raise between Rs 30,000 and Rs 40,000 crore from retail investors over the next 3-4 years to diversify sources of funds and mitigate risk.\\nSource: https://www.moneycontrol.com/news/business/markets/adani-enterprises-stock-in-focus-as-company-launches-first-tranche-of-qip-to-raise-500-million-12839267.html\\n\\nContent:  Adani had an operational capacity of 4 GW cell and module line.\\nSource: https://www.moneycontrol.com/news/business/capex-for-airports-expressway-green-energy-projects-how-adani-enterprises-plans-to-use-its-qip-proceeds-12839253.html\\n\\nContent:  \\\"Adani Group plans to raise between Rs 30,000 and Rs 40,000 crore from retail investors over the next 3-4 years to diversify sources of funds and mitigate risk.\\\"\\nSource: https://www.moneycontrol.com/news/business/markets/adani-enterprises-stock-in-focus-as-company-launches-first-tranche-of-qip-to-raise-500-million-12839267.html\\n=========\\nFINAL ANSWER:\"\n",
      "  ]\n",
      "}\n",
      "\u001b[36;1m\u001b[1;3m[llm/end]\u001b[0m \u001b[1m[chain:RetrievalQAWithSourcesChain > chain:MapReduceDocumentsChain > chain:LLMChain > llm:OpenAI] [1.92s] Exiting LLM run with output:\n",
      "\u001b[0m{\n",
      "  \"generations\": [\n",
      "    [\n",
      "      {\n",
      "        \"text\": \" The total fundraising of Adani Group is approximately Rs 16,600 crore or $2 billion. However, the company plans to raise between Rs 30,000 and Rs 40,000 crore in total from retail investors over the next 3-4 years. \\nSOURCES: https://www.moneycontrol.com/news/business/markets/adani-enterprises-stock-in-focus-as-company-launches-first-tranche-of-qip-to-raise-500-million-12839267.html\",\n",
      "        \"generation_info\": {\n",
      "          \"finish_reason\": \"stop\",\n",
      "          \"logprobs\": null\n",
      "        },\n",
      "        \"type\": \"Generation\"\n",
      "      }\n",
      "    ]\n",
      "  ],\n",
      "  \"llm_output\": {\n",
      "    \"token_usage\": {\n",
      "      \"total_tokens\": 1837,\n",
      "      \"prompt_tokens\": 1741,\n",
      "      \"completion_tokens\": 96\n",
      "    },\n",
      "    \"model_name\": \"gpt-3.5-turbo-instruct\"\n",
      "  },\n",
      "  \"run\": null,\n",
      "  \"type\": \"LLMResult\"\n",
      "}\n",
      "\u001b[36;1m\u001b[1;3m[chain/end]\u001b[0m \u001b[1m[chain:RetrievalQAWithSourcesChain > chain:MapReduceDocumentsChain > chain:LLMChain] [1.92s] Exiting Chain run with output:\n",
      "\u001b[0m{\n",
      "  \"text\": \" The total fundraising of Adani Group is approximately Rs 16,600 crore or $2 billion. However, the company plans to raise between Rs 30,000 and Rs 40,000 crore in total from retail investors over the next 3-4 years. \\nSOURCES: https://www.moneycontrol.com/news/business/markets/adani-enterprises-stock-in-focus-as-company-launches-first-tranche-of-qip-to-raise-500-million-12839267.html\"\n",
      "}\n",
      "\u001b[36;1m\u001b[1;3m[chain/end]\u001b[0m \u001b[1m[chain:RetrievalQAWithSourcesChain > chain:MapReduceDocumentsChain] [9.69s] Exiting Chain run with output:\n",
      "\u001b[0m{\n",
      "  \"output_text\": \" The total fundraising of Adani Group is approximately Rs 16,600 crore or $2 billion. However, the company plans to raise between Rs 30,000 and Rs 40,000 crore in total from retail investors over the next 3-4 years. \\nSOURCES: https://www.moneycontrol.com/news/business/markets/adani-enterprises-stock-in-focus-as-company-launches-first-tranche-of-qip-to-raise-500-million-12839267.html\"\n",
      "}\n",
      "\u001b[36;1m\u001b[1;3m[chain/end]\u001b[0m \u001b[1m[chain:RetrievalQAWithSourcesChain] [13.70s] Exiting Chain run with output:\n",
      "\u001b[0m{\n",
      "  \"answer\": \" The total fundraising of Adani Group is approximately Rs 16,600 crore or $2 billion. However, the company plans to raise between Rs 30,000 and Rs 40,000 crore in total from retail investors over the next 3-4 years. \\n\",\n",
      "  \"sources\": \"https://www.moneycontrol.com/news/business/markets/adani-enterprises-stock-in-focus-as-company-launches-first-tranche-of-qip-to-raise-500-million-12839267.html\"\n",
      "}\n"
     ]
    },
    {
     "data": {
      "text/plain": [
       "{'answer': ' The total fundraising of Adani Group is approximately Rs 16,600 crore or $2 billion. However, the company plans to raise between Rs 30,000 and Rs 40,000 crore in total from retail investors over the next 3-4 years. \\n',\n",
       " 'sources': 'https://www.moneycontrol.com/news/business/markets/adani-enterprises-stock-in-focus-as-company-launches-first-tranche-of-qip-to-raise-500-million-12839267.html'}"
      ]
     },
     "execution_count": 148,
     "metadata": {},
     "output_type": "execute_result"
    }
   ],
   "source": [
    "query = \"what is the total fundraising of adani group?\"\n",
    "\n",
    "langchain.debug = True\n",
    "\n",
    "chain.invoke({\"question\": query}, return_only_outputs=True)"
   ]
  }
 ],
 "metadata": {
  "kernelspec": {
   "display_name": "Python 3",
   "language": "python",
   "name": "python3"
  },
  "language_info": {
   "codemirror_mode": {
    "name": "ipython",
    "version": 3
   },
   "file_extension": ".py",
   "mimetype": "text/x-python",
   "name": "python",
   "nbconvert_exporter": "python",
   "pygments_lexer": "ipython3",
   "version": "3.9.0"
  }
 },
 "nbformat": 4,
 "nbformat_minor": 2
}
